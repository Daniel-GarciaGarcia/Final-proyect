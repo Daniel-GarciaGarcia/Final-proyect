{
 "cells": [
  {
   "cell_type": "code",
   "execution_count": 11,
   "metadata": {},
   "outputs": [],
   "source": [
    "import pandas as pd\n",
    "import numpy as np\n",
    "import matplotlib.pyplot as plt\n",
    "import seaborn as sns\n",
    "import tweepy\n",
    "import re\n",
    "from collections import Counter\n",
    "from tweepy import OAuthHandler\n",
    "import json\n",
    "import pycountry\n",
    "import os\n",
    "from dotenv import load_dotenv\n",
    "import time\n",
    "import csv\n",
    "from IPython.display import Image\n",
    "from sklearn.feature_extraction.text import TfidfVectorizer"
   ]
  },
  {
   "cell_type": "markdown",
   "metadata": {},
   "source": [
    "### Este jupyternotebook es para iniciar  la extraccion de datos y poder iniciar todo el proceso."
   ]
  },
  {
   "cell_type": "code",
   "execution_count": 12,
   "metadata": {
    "scrolled": false
   },
   "outputs": [
    {
     "name": "stdout",
     "output_type": "stream",
     "text": [
      "卡西亚 , nadie_me_tiene\n"
     ]
    }
   ],
   "source": [
    "load_dotenv()\n",
    "\n",
    "\n",
    "CONSUMER_KEY = os.getenv(\"consumer_key\")\n",
    "CONSUMER_SECRET = os.getenv(\"consumer_secret\")\n",
    "ACCESS_TOKEN = os.getenv(\"access_token\")\n",
    "ACCESS_SECRET = os.getenv(\"access_token_secret\")\n",
    "\n",
    "auth = tweepy.OAuthHandler(CONSUMER_KEY, CONSUMER_SECRET)\n",
    "auth.set_access_token(ACCESS_TOKEN, ACCESS_SECRET)\n",
    "api = tweepy.API(auth, wait_on_rate_limit=True, wait_on_rate_limit_notify=True)\n",
    "\n",
    "user=api.me()\n",
    "print(user.name,\",\", user.screen_name)"
   ]
  },
  {
   "cell_type": "code",
   "execution_count": 3,
   "metadata": {},
   "outputs": [],
   "source": [
    "#(\"Preparandome para el trabajo final de IronHack\")\n",
    "#https://twitter.com/nadie_me_tiene/status/1313883047469686790"
   ]
  },
  {
   "cell_type": "code",
   "execution_count": 4,
   "metadata": {},
   "outputs": [
    {
     "data": {
      "text/plain": [
       "'start_time = time.time()\\n\\nmax_id = -300000\\ntweetsPerQry = 1000  \\nsearch_words = \\'(@JoeBiden OR @DonaldTrump OR Donald Trump OR Joe Biden)\\'\\ndate_since = \"2020-09-29\" \\n\\n# append data\\ncsvFile = open(search_words + \\'_data4.csv\\', \\'w\\', encoding=\\'utf-8\\')\\n\\n#csv Writer\\ncsvWriter = csv.writer(csvFile)\\n\\n#get data\\ntweet_num = 0\\nfor tweet in tweepy.Cursor(\\n                        api.search,\\n                        q=search_words + \\' -RT\\',\\n                        count=tweetsPerQry,\\n                        lang=\"en\", \\n                        since=date_since, max_id=str(max_id - 1)).items(9999999999):\\n    if tweet.place is not None:\\n        try:\\n            print (\\'tweet number: {}\\'.format(tweet_num), tweet.text, tweet.place.full_name)\\n            # write data\\n            csvWriter.writerow([tweet.created_at,\\n                                tweet.user.screen_name,\\n                                tweet.user.location,\\n                                tweet.user.followers_count,\\n                                tweet.user.friends_count,\\n                                tweet.text,\\n                                tweet.place.bounding_box.coordinates,\\n                                tweet.place.full_name,\\n                                tweet.place.country,\\n                                tweet.place.country_code,\\n                                tweet.place.place_type])\\n            tweet_num += 1\\n            \\n        except :\\n            continue\\n\\nprint(\"--- %s seconds ---\" % (time.time() - start_time))\\n'"
      ]
     },
     "execution_count": 4,
     "metadata": {},
     "output_type": "execute_result"
    }
   ],
   "source": [
    "'''start_time = time.time()\n",
    "\n",
    "max_id = -300000\n",
    "tweetsPerQry = 1000  \n",
    "search_words = '(@JoeBiden OR @DonaldTrump OR Donald Trump OR Joe Biden)'\n",
    "date_since = \"2020-09-29\" \n",
    "\n",
    "# append data\n",
    "csvFile = open(search_words + '_data4.csv', 'w', encoding='utf-8')\n",
    "\n",
    "#csv Writer\n",
    "csvWriter = csv.writer(csvFile)\n",
    "\n",
    "#get data\n",
    "tweet_num = 0\n",
    "for tweet in tweepy.Cursor(\n",
    "                        api.search,\n",
    "                        q=search_words + ' -RT',\n",
    "                        count=tweetsPerQry,\n",
    "                        lang=\"en\", \n",
    "                        since=date_since, max_id=str(max_id - 1)).items(9999999999):\n",
    "    if tweet.place is not None:\n",
    "        try:\n",
    "            print ('tweet number: {}'.format(tweet_num), tweet.text, tweet.place.full_name)\n",
    "            # write data\n",
    "            csvWriter.writerow([tweet.created_at,\n",
    "                                tweet.user.screen_name,\n",
    "                                tweet.user.location,\n",
    "                                tweet.user.followers_count,\n",
    "                                tweet.user.friends_count,\n",
    "                                tweet.text,\n",
    "                                tweet.place.bounding_box.coordinates,\n",
    "                                tweet.place.full_name,\n",
    "                                tweet.place.country,\n",
    "                                tweet.place.country_code,\n",
    "                                tweet.place.place_type])\n",
    "            tweet_num += 1\n",
    "            \n",
    "        except :\n",
    "            continue\n",
    "\n",
    "print(\"--- %s seconds ---\" % (time.time() - start_time))\n",
    "'''"
   ]
  },
  {
   "cell_type": "code",
   "execution_count": 31,
   "metadata": {},
   "outputs": [
    {
     "data": {
      "text/plain": [
       "(2505, 11)"
      ]
     },
     "execution_count": 31,
     "metadata": {},
     "output_type": "execute_result"
    }
   ],
   "source": [
    "#Defino las columnas que voy a utilizar y paso la informacion a un CSV\n",
    "col_names=['date','user_name','user_loc','followers','friends','message','bbox_coords',\\\n",
    "           'full_name','country','country_code','place_type']\n",
    "df2= pd.read_csv('(@JoeBiden OR @DonaldTrump OR Donald Trump OR Joe Biden)_data3.csv', names=col_names)\n",
    "df2.shape\n",
    "#Tras un exitoso web scrapping consigo rascar 2300 tweets"
   ]
  },
  {
   "cell_type": "code",
   "execution_count": 14,
   "metadata": {},
   "outputs": [
    {
     "data": {
      "text/plain": [
       "date              0\n",
       "user_name         0\n",
       "user_loc        520\n",
       "followers         0\n",
       "friends           0\n",
       "message           1\n",
       "bbox_coords       1\n",
       "full_name         1\n",
       "country           8\n",
       "country_code      8\n",
       "place_type        1\n",
       "dtype: int64"
      ]
     },
     "execution_count": 14,
     "metadata": {},
     "output_type": "execute_result"
    }
   ],
   "source": [
    "df2.isna().sum()"
   ]
  },
  {
   "cell_type": "code",
   "execution_count": 15,
   "metadata": {},
   "outputs": [
    {
     "name": "stdout",
     "output_type": "stream",
     "text": [
      "date            0\n",
      "user_name       0\n",
      "user_loc        2\n",
      "followers       0\n",
      "friends         0\n",
      "message         1\n",
      "bbox_coords     1\n",
      "full_name       1\n",
      "country         8\n",
      "country_code    8\n",
      "place_type      1\n",
      "dtype: int64\n",
      "date            0\n",
      "user_name       0\n",
      "user_loc        0\n",
      "followers       0\n",
      "friends         0\n",
      "message         0\n",
      "bbox_coords     0\n",
      "full_name       0\n",
      "country         0\n",
      "country_code    0\n",
      "place_type      0\n",
      "dtype: int64\n"
     ]
    }
   ],
   "source": [
    "df2['user_loc']=df2['user_loc'].fillna(df2['country'])\n",
    "#Rellenamos los valores desconocidos con los de la columna pais, puesto que tienen informacion reemplazable\n",
    "print(df2.isna().sum())\n",
    "df2=df2.fillna('UNKNOWN')\n",
    "print(df2.isna().sum())\n",
    "#Sustituimos los valores donde careciamos la informacion sobre su paradero con UNKNOWN, eran seis personas y ya\n",
    "#poseemos un dataset sin valores vacios."
   ]
  },
  {
   "cell_type": "code",
   "execution_count": 16,
   "metadata": {},
   "outputs": [
    {
     "data": {
      "text/plain": [
       "US         2211\n",
       "GB           73\n",
       "CA           55\n",
       "AU           20\n",
       "IN           15\n",
       "MX           14\n",
       "IE           11\n",
       "NG            8\n",
       "UNKNOWN       8\n",
       "KE            6\n",
       "ID            6\n",
       "BR            4\n",
       "DE            4\n",
       "NL            4\n",
       "IT            3\n",
       "ZA            3\n",
       "CN            2\n",
       "BE            2\n",
       "JP            2\n",
       "CL            2\n",
       "IQ            2\n",
       "VN            2\n",
       "IL            2\n",
       "SE            2\n",
       "HK            2\n",
       "UG            2\n",
       "NO            2\n",
       "TH            2\n",
       "VE            2\n",
       "AR            2\n",
       "AE            2\n",
       "ES            2\n",
       "NZ            2\n",
       "SG            2\n",
       "RU            1\n",
       "BD            1\n",
       "AW            1\n",
       "BW            1\n",
       "NE            1\n",
       "PT            1\n",
       "TZ            1\n",
       "PH            1\n",
       "GN            1\n",
       "GR            1\n",
       "BS            1\n",
       "NP            1\n",
       "CY            1\n",
       "FR            1\n",
       "KY            1\n",
       "JM            1\n",
       "CO            1\n",
       "PL            1\n",
       "GT            1\n",
       "HT            1\n",
       "RO            1\n",
       "PE            1\n",
       "CR            1\n",
       "PA            1\n",
       "Name: country_code, dtype: int64"
      ]
     },
     "execution_count": 16,
     "metadata": {},
     "output_type": "execute_result"
    }
   ],
   "source": [
    "df2.country_code.value_counts()"
   ]
  },
  {
   "cell_type": "code",
   "execution_count": 30,
   "metadata": {},
   "outputs": [
    {
     "name": "stdout",
     "output_type": "stream",
     "text": [
      "<class 'pandas.core.frame.DataFrame'>\n",
      "RangeIndex: 2505 entries, 0 to 2504\n",
      "Data columns (total 11 columns):\n",
      " #   Column        Non-Null Count  Dtype \n",
      "---  ------        --------------  ----- \n",
      " 0   date          2505 non-null   object\n",
      " 1   user_name     2505 non-null   object\n",
      " 2   user_loc      2505 non-null   object\n",
      " 3   followers     2505 non-null   object\n",
      " 4   friends       2505 non-null   object\n",
      " 5   message       2505 non-null   object\n",
      " 6   bbox_coords   2505 non-null   object\n",
      " 7   full_name     2505 non-null   object\n",
      " 8   country       2505 non-null   object\n",
      " 9   country_code  2505 non-null   object\n",
      " 10  place_type    2505 non-null   object\n",
      "dtypes: object(11)\n",
      "memory usage: 215.4+ KB\n"
     ]
    }
   ],
   "source": [
    "df2.info()"
   ]
  },
  {
   "cell_type": "code",
   "execution_count": 45,
   "metadata": {},
   "outputs": [
    {
     "ename": "KeyError",
     "evalue": "\"None of ['date'] are in the columns\"",
     "output_type": "error",
     "traceback": [
      "\u001b[0;31m---------------------------------------------------------------------------\u001b[0m",
      "\u001b[0;31mKeyError\u001b[0m                                  Traceback (most recent call last)",
      "\u001b[0;32m<ipython-input-45-469e3ba96419>\u001b[0m in \u001b[0;36m<module>\u001b[0;34m\u001b[0m\n\u001b[1;32m      1\u001b[0m \u001b[0;31m#df2=df2.drop(df2.loc[df2['date']=='nds'])\u001b[0m\u001b[0;34m\u001b[0m\u001b[0;34m\u001b[0m\u001b[0;34m\u001b[0m\u001b[0m\n\u001b[0;32m----> 2\u001b[0;31m \u001b[0mdf2\u001b[0m\u001b[0;34m=\u001b[0m\u001b[0mdf2\u001b[0m\u001b[0;34m.\u001b[0m\u001b[0mset_index\u001b[0m\u001b[0;34m(\u001b[0m\u001b[0;34m'date'\u001b[0m\u001b[0;34m)\u001b[0m\u001b[0;34m\u001b[0m\u001b[0;34m\u001b[0m\u001b[0m\n\u001b[0m\u001b[1;32m      3\u001b[0m \u001b[0mdf2\u001b[0m\u001b[0;34m=\u001b[0m\u001b[0mdf2\u001b[0m\u001b[0;34m.\u001b[0m\u001b[0mdrop\u001b[0m\u001b[0;34m(\u001b[0m\u001b[0;34m'nds'\u001b[0m\u001b[0;34m,\u001b[0m \u001b[0maxis\u001b[0m\u001b[0;34m=\u001b[0m\u001b[0;36m0\u001b[0m\u001b[0;34m)\u001b[0m\u001b[0;34m\u001b[0m\u001b[0;34m\u001b[0m\u001b[0m\n\u001b[1;32m      4\u001b[0m \u001b[0mdf2\u001b[0m\u001b[0;34m.\u001b[0m\u001b[0mreset_index\u001b[0m\u001b[0;34m(\u001b[0m\u001b[0;34m)\u001b[0m\u001b[0;34m\u001b[0m\u001b[0;34m\u001b[0m\u001b[0m\n",
      "\u001b[0;32m/usr/local/lib/python3.8/dist-packages/pandas/core/frame.py\u001b[0m in \u001b[0;36mset_index\u001b[0;34m(self, keys, drop, append, inplace, verify_integrity)\u001b[0m\n\u001b[1;32m   4546\u001b[0m \u001b[0;34m\u001b[0m\u001b[0m\n\u001b[1;32m   4547\u001b[0m         \u001b[0;32mif\u001b[0m \u001b[0mmissing\u001b[0m\u001b[0;34m:\u001b[0m\u001b[0;34m\u001b[0m\u001b[0;34m\u001b[0m\u001b[0m\n\u001b[0;32m-> 4548\u001b[0;31m             \u001b[0;32mraise\u001b[0m \u001b[0mKeyError\u001b[0m\u001b[0;34m(\u001b[0m\u001b[0;34mf\"None of {missing} are in the columns\"\u001b[0m\u001b[0;34m)\u001b[0m\u001b[0;34m\u001b[0m\u001b[0;34m\u001b[0m\u001b[0m\n\u001b[0m\u001b[1;32m   4549\u001b[0m \u001b[0;34m\u001b[0m\u001b[0m\n\u001b[1;32m   4550\u001b[0m         \u001b[0;32mif\u001b[0m \u001b[0minplace\u001b[0m\u001b[0;34m:\u001b[0m\u001b[0;34m\u001b[0m\u001b[0;34m\u001b[0m\u001b[0m\n",
      "\u001b[0;31mKeyError\u001b[0m: \"None of ['date'] are in the columns\""
     ]
    }
   ],
   "source": [
    "df2=df2.set_index('date')\n",
    "df2=df2.drop('nds', axis=0)\n",
    "#Elimino una fila con valores perdidos"
   ]
  },
  {
   "cell_type": "code",
   "execution_count": 49,
   "metadata": {},
   "outputs": [
    {
     "data": {
      "text/html": [
       "<div>\n",
       "<style scoped>\n",
       "    .dataframe tbody tr th:only-of-type {\n",
       "        vertical-align: middle;\n",
       "    }\n",
       "\n",
       "    .dataframe tbody tr th {\n",
       "        vertical-align: top;\n",
       "    }\n",
       "\n",
       "    .dataframe thead th {\n",
       "        text-align: right;\n",
       "    }\n",
       "</style>\n",
       "<table border=\"1\" class=\"dataframe\">\n",
       "  <thead>\n",
       "    <tr style=\"text-align: right;\">\n",
       "      <th></th>\n",
       "      <th>index</th>\n",
       "      <th>date</th>\n",
       "      <th>user_name</th>\n",
       "      <th>user_loc</th>\n",
       "      <th>followers</th>\n",
       "      <th>friends</th>\n",
       "      <th>message</th>\n",
       "      <th>bbox_coords</th>\n",
       "      <th>full_name</th>\n",
       "      <th>country</th>\n",
       "      <th>country_code</th>\n",
       "      <th>place_type</th>\n",
       "    </tr>\n",
       "  </thead>\n",
       "  <tbody>\n",
       "    <tr>\n",
       "      <th>0</th>\n",
       "      <td>0</td>\n",
       "      <td>2020-10-10 11:41:36</td>\n",
       "      <td>susanha77835097</td>\n",
       "      <td>Florida, USA</td>\n",
       "      <td>2</td>\n",
       "      <td>34</td>\n",
       "      <td>@blossomingabyss @JoeBiden He filled his pocke...</td>\n",
       "      <td>[[[-80.131529, 25.900463], [-80.118613, 25.900...</td>\n",
       "      <td>Sunny Isles Beach, FL</td>\n",
       "      <td>United States</td>\n",
       "      <td>US</td>\n",
       "      <td>city</td>\n",
       "    </tr>\n",
       "    <tr>\n",
       "      <th>1</th>\n",
       "      <td>1</td>\n",
       "      <td>2020-10-10 11:19:05</td>\n",
       "      <td>tomborelli</td>\n",
       "      <td>Greenwich, CT</td>\n",
       "      <td>32169</td>\n",
       "      <td>1596</td>\n",
       "      <td>Supporting @JoeBiden means packing the Supreme...</td>\n",
       "      <td>[[[-73.710304, 41.00137], [-73.568516, 41.0013...</td>\n",
       "      <td>Greenwich, CT</td>\n",
       "      <td>United States</td>\n",
       "      <td>US</td>\n",
       "      <td>city</td>\n",
       "    </tr>\n",
       "    <tr>\n",
       "      <th>2</th>\n",
       "      <td>2</td>\n",
       "      <td>2020-10-10 09:39:10</td>\n",
       "      <td>John_Di_Lemme</td>\n",
       "      <td>(561) 847-3467</td>\n",
       "      <td>9455</td>\n",
       "      <td>741</td>\n",
       "      <td>@ABC13News @realDonaldTrump @JoeBiden Nancy Pe...</td>\n",
       "      <td>[[[-80.2006, 26.644671], [-80.044639, 26.64467...</td>\n",
       "      <td>West Palm Beach, FL</td>\n",
       "      <td>United States</td>\n",
       "      <td>US</td>\n",
       "      <td>city</td>\n",
       "    </tr>\n",
       "    <tr>\n",
       "      <th>3</th>\n",
       "      <td>3</td>\n",
       "      <td>2020-10-10 08:39:14</td>\n",
       "      <td>Parnell_100</td>\n",
       "      <td>NaN</td>\n",
       "      <td>1753</td>\n",
       "      <td>2771</td>\n",
       "      <td>@JoeBiden There is NO STOPPING this AMERICAN T...</td>\n",
       "      <td>[[[-6.0361161, 54.543241], [-5.8207101, 54.543...</td>\n",
       "      <td>Belfast, Northern Ireland</td>\n",
       "      <td>United Kingdom</td>\n",
       "      <td>GB</td>\n",
       "      <td>city</td>\n",
       "    </tr>\n",
       "    <tr>\n",
       "      <th>4</th>\n",
       "      <td>4</td>\n",
       "      <td>2020-10-10 07:18:33</td>\n",
       "      <td>sqlblues</td>\n",
       "      <td>Weston-super-Mare, England</td>\n",
       "      <td>1179</td>\n",
       "      <td>1052</td>\n",
       "      <td>@FenrirWolf26 @Stanhope2011VJ Britons have als...</td>\n",
       "      <td>[[[-2.994831, 51.31404], [-2.8954284, 51.31404...</td>\n",
       "      <td>Weston-super-Mare, England</td>\n",
       "      <td>United Kingdom</td>\n",
       "      <td>GB</td>\n",
       "      <td>city</td>\n",
       "    </tr>\n",
       "    <tr>\n",
       "      <th>...</th>\n",
       "      <td>...</td>\n",
       "      <td>...</td>\n",
       "      <td>...</td>\n",
       "      <td>...</td>\n",
       "      <td>...</td>\n",
       "      <td>...</td>\n",
       "      <td>...</td>\n",
       "      <td>...</td>\n",
       "      <td>...</td>\n",
       "      <td>...</td>\n",
       "      <td>...</td>\n",
       "      <td>...</td>\n",
       "    </tr>\n",
       "    <tr>\n",
       "      <th>2499</th>\n",
       "      <td>2499</td>\n",
       "      <td>2020-10-01 14:17:27</td>\n",
       "      <td>JojoAkoto</td>\n",
       "      <td>Louvain-La-Neuve</td>\n",
       "      <td>770</td>\n",
       "      <td>5004</td>\n",
       "      <td>Great debate between Donald Trump and Joe Bide...</td>\n",
       "      <td>[[[4.4918239, 50.6490413], [4.6483576, 50.6490...</td>\n",
       "      <td>Ottignies-Louvain-la-Neuve, Belgique</td>\n",
       "      <td>Belgium</td>\n",
       "      <td>BE</td>\n",
       "      <td>city</td>\n",
       "    </tr>\n",
       "    <tr>\n",
       "      <th>2500</th>\n",
       "      <td>2500</td>\n",
       "      <td>2020-10-01 14:17:12</td>\n",
       "      <td>Crackerthe4th</td>\n",
       "      <td>Chicago, Illinois</td>\n",
       "      <td>15731</td>\n",
       "      <td>14924</td>\n",
       "      <td>To all the undecided voters: the biggest sprea...</td>\n",
       "      <td>[[[-87.940033, 41.644102], [-87.523993, 41.644...</td>\n",
       "      <td>Chicago, IL</td>\n",
       "      <td>United States</td>\n",
       "      <td>US</td>\n",
       "      <td>city</td>\n",
       "    </tr>\n",
       "    <tr>\n",
       "      <th>2501</th>\n",
       "      <td>2501</td>\n",
       "      <td>2020-10-01 14:13:16</td>\n",
       "      <td>ThomasCagganel1</td>\n",
       "      <td>Monroe, CT</td>\n",
       "      <td>508</td>\n",
       "      <td>104</td>\n",
       "      <td>@thebradfordfile Chris Wallace went after Dona...</td>\n",
       "      <td>[[[-73.30176, 41.2941016], [-73.170665, 41.294...</td>\n",
       "      <td>Monroe, CT</td>\n",
       "      <td>United States</td>\n",
       "      <td>US</td>\n",
       "      <td>city</td>\n",
       "    </tr>\n",
       "    <tr>\n",
       "      <th>2502</th>\n",
       "      <td>2502</td>\n",
       "      <td>2020-10-01 14:12:24</td>\n",
       "      <td>Hal4</td>\n",
       "      <td>Washington, DC</td>\n",
       "      <td>2232</td>\n",
       "      <td>5001</td>\n",
       "      <td>https://t.co/faYZgsey1P Something #good for a ...</td>\n",
       "      <td>[[[-77.119401, 38.801826], [-76.909396, 38.801...</td>\n",
       "      <td>Washington, DC</td>\n",
       "      <td>United States</td>\n",
       "      <td>US</td>\n",
       "      <td>city</td>\n",
       "    </tr>\n",
       "    <tr>\n",
       "      <th>2503</th>\n",
       "      <td>2503</td>\n",
       "      <td>2020-10-01 14:08:29</td>\n",
       "      <td>SmarshMary</td>\n",
       "      <td>NaN</td>\n",
       "      <td>241</td>\n",
       "      <td>355</td>\n",
       "      <td>@digwarrior4kids @JeSuisASDAR @JoeBiden @Speak...</td>\n",
       "      <td>[[[-74.586075, 40.394292], [-74.541524, 40.394...</td>\n",
       "      <td>Kendall Park, NJ</td>\n",
       "      <td>United States</td>\n",
       "      <td>US</td>\n",
       "      <td>city</td>\n",
       "    </tr>\n",
       "  </tbody>\n",
       "</table>\n",
       "<p>2504 rows × 12 columns</p>\n",
       "</div>"
      ],
      "text/plain": [
       "      index                date        user_name                    user_loc  \\\n",
       "0         0 2020-10-10 11:41:36  susanha77835097                Florida, USA   \n",
       "1         1 2020-10-10 11:19:05       tomborelli               Greenwich, CT   \n",
       "2         2 2020-10-10 09:39:10    John_Di_Lemme              (561) 847-3467   \n",
       "3         3 2020-10-10 08:39:14      Parnell_100                         NaN   \n",
       "4         4 2020-10-10 07:18:33         sqlblues  Weston-super-Mare, England   \n",
       "...     ...                 ...              ...                         ...   \n",
       "2499   2499 2020-10-01 14:17:27        JojoAkoto            Louvain-La-Neuve   \n",
       "2500   2500 2020-10-01 14:17:12    Crackerthe4th           Chicago, Illinois   \n",
       "2501   2501 2020-10-01 14:13:16  ThomasCagganel1                  Monroe, CT   \n",
       "2502   2502 2020-10-01 14:12:24             Hal4              Washington, DC   \n",
       "2503   2503 2020-10-01 14:08:29       SmarshMary                         NaN   \n",
       "\n",
       "     followers friends                                            message  \\\n",
       "0            2      34  @blossomingabyss @JoeBiden He filled his pocke...   \n",
       "1        32169    1596  Supporting @JoeBiden means packing the Supreme...   \n",
       "2         9455     741  @ABC13News @realDonaldTrump @JoeBiden Nancy Pe...   \n",
       "3         1753    2771  @JoeBiden There is NO STOPPING this AMERICAN T...   \n",
       "4         1179    1052  @FenrirWolf26 @Stanhope2011VJ Britons have als...   \n",
       "...        ...     ...                                                ...   \n",
       "2499       770    5004  Great debate between Donald Trump and Joe Bide...   \n",
       "2500     15731   14924  To all the undecided voters: the biggest sprea...   \n",
       "2501       508     104  @thebradfordfile Chris Wallace went after Dona...   \n",
       "2502      2232    5001  https://t.co/faYZgsey1P Something #good for a ...   \n",
       "2503       241     355  @digwarrior4kids @JeSuisASDAR @JoeBiden @Speak...   \n",
       "\n",
       "                                            bbox_coords  \\\n",
       "0     [[[-80.131529, 25.900463], [-80.118613, 25.900...   \n",
       "1     [[[-73.710304, 41.00137], [-73.568516, 41.0013...   \n",
       "2     [[[-80.2006, 26.644671], [-80.044639, 26.64467...   \n",
       "3     [[[-6.0361161, 54.543241], [-5.8207101, 54.543...   \n",
       "4     [[[-2.994831, 51.31404], [-2.8954284, 51.31404...   \n",
       "...                                                 ...   \n",
       "2499  [[[4.4918239, 50.6490413], [4.6483576, 50.6490...   \n",
       "2500  [[[-87.940033, 41.644102], [-87.523993, 41.644...   \n",
       "2501  [[[-73.30176, 41.2941016], [-73.170665, 41.294...   \n",
       "2502  [[[-77.119401, 38.801826], [-76.909396, 38.801...   \n",
       "2503  [[[-74.586075, 40.394292], [-74.541524, 40.394...   \n",
       "\n",
       "                                 full_name         country country_code  \\\n",
       "0                    Sunny Isles Beach, FL   United States           US   \n",
       "1                            Greenwich, CT   United States           US   \n",
       "2                      West Palm Beach, FL   United States           US   \n",
       "3                Belfast, Northern Ireland  United Kingdom           GB   \n",
       "4               Weston-super-Mare, England  United Kingdom           GB   \n",
       "...                                    ...             ...          ...   \n",
       "2499  Ottignies-Louvain-la-Neuve, Belgique         Belgium           BE   \n",
       "2500                           Chicago, IL   United States           US   \n",
       "2501                            Monroe, CT   United States           US   \n",
       "2502                        Washington, DC   United States           US   \n",
       "2503                      Kendall Park, NJ   United States           US   \n",
       "\n",
       "     place_type  \n",
       "0          city  \n",
       "1          city  \n",
       "2          city  \n",
       "3          city  \n",
       "4          city  \n",
       "...         ...  \n",
       "2499       city  \n",
       "2500       city  \n",
       "2501       city  \n",
       "2502       city  \n",
       "2503       city  \n",
       "\n",
       "[2504 rows x 12 columns]"
      ]
     },
     "execution_count": 49,
     "metadata": {},
     "output_type": "execute_result"
    }
   ],
   "source": [
    "df2=df2.reset_index()\n",
    "df2"
   ]
  },
  {
   "cell_type": "code",
   "execution_count": 48,
   "metadata": {},
   "outputs": [
    {
     "name": "stdout",
     "output_type": "stream",
     "text": [
      "2020-10-01 14:08:29\n",
      "2020-10-10 11:41:36\n"
     ]
    }
   ],
   "source": [
    "df2['date']=pd.to_datetime(df2['date'])\n",
    "print(df2.date.min())\n",
    "print(df2.date.max())\n"
   ]
  },
  {
   "cell_type": "code",
   "execution_count": 50,
   "metadata": {},
   "outputs": [
    {
     "name": "stdout",
     "output_type": "stream",
     "text": [
      "lroerig1255        92\n",
      "Walker1world       59\n",
      "RussOnPolitics     19\n",
      "AKkevi7            17\n",
      "CuttemUp           16\n",
      "                   ..\n",
      "spielberg_indy      1\n",
      "HASSBEAT            1\n",
      "TIGER85158183       1\n",
      "UnlessPA            1\n",
      "DirtyJerseyMatt     1\n",
      "Name: user_name, Length: 1758, dtype: int64\n"
     ]
    }
   ],
   "source": [
    "print(df2.user_name.value_counts())\n"
   ]
  },
  {
   "cell_type": "code",
   "execution_count": 51,
   "metadata": {},
   "outputs": [
    {
     "name": "stdout",
     "output_type": "stream",
     "text": [
      "(2504, 12)\n",
      "(2504, 12)\n",
      "<bound method NDFrame.head of Donald Trump is losing by 16 in a new CNN poll. And that's not the worst news.\\n#2020Election #Election2020… https://t.co/xpMPwi7dox                1\n",
      "@brad_dickson Not. Now more than ever @JoeBiden need to continue to campaign. Joe Biden has campaigned safely and c… https://t.co/iMfA7vf2py        1\n",
      "🇦🇺🇦🇺 Jim Carrey makes his debut as Joe Biden in the SNL premiere  https://t.co/tPX0BFhIh8 #Election2020… https://t.co/vJusLfyzxg                    1\n",
      "@JoeBiden This is why Senator Lindsey Graham call Joe Biden the most decent man in Politics. As Lindsey says, “if y… https://t.co/MnoRgAQ8r6        1\n",
      "@JoeBiden Doesn’t Biden know that people are still getting COVID-19 even with a 😷 mask. You talk about people getti… https://t.co/iQmIFkQt3W        1\n",
      "                                                                                                                                                   ..\n",
      "@JoeBiden @Krystyn77733531 You’re so right Joe Biden, our freedom and democracy is all on the line, can we vote Tru… https://t.co/5zeS4OXmNA        1\n",
      "@katiecouric @realDonaldTrump I saw three minutes of it, more than enough, then I tuned in to Joe Biden‘s town hall… https://t.co/iQ2LJWVZsi        1\n",
      "@Black24Boi @JoeBiden Have some respect for Joe Biden!!!                                                                                            1\n",
      "#corruptJoe \\n#Trump2020LandslideVictory\\n#BidenCrimeFamily\\n@JoeBiden liar. Fraud \\nBREAKING: Joe Biden is the Subject… https://t.co/Ody5v6FKuD    1\n",
      "“...Biden is a good man, Donald Trump is not”, former CIA Director Hayden.  Yes and yes!!!                                                          1\n",
      "Name: message, Length: 2495, dtype: int64>\n"
     ]
    }
   ],
   "source": [
    "print(df2.shape)\n",
    "df2.message.drop_duplicates(inplace= True)\n",
    "print(df2.shape)\n",
    "print(df2.message.value_counts().head)"
   ]
  },
  {
   "cell_type": "code",
   "execution_count": 52,
   "metadata": {},
   "outputs": [],
   "source": [
    "def geo_mean(x):\n",
    "    y = json.loads(x)\n",
    "    y = np.asarray(y)\n",
    "    mean_geoloc = np.add(np.add((y[:][0][0]),(y[:][0][1]))/2,\\\n",
    "                         (np.add((y[:][0][2]),(y[:][0][3]))/2))/2    \n",
    "    return np.around(mean_geoloc,decimals=6)\n",
    "#Uso una funcion para transformar las bounding box(cuadros delimitadores) en coordenadas geograficas (llevar a funcpy)"
   ]
  },
  {
   "cell_type": "code",
   "execution_count": 53,
   "metadata": {},
   "outputs": [
    {
     "data": {
      "text/html": [
       "<div>\n",
       "<style scoped>\n",
       "    .dataframe tbody tr th:only-of-type {\n",
       "        vertical-align: middle;\n",
       "    }\n",
       "\n",
       "    .dataframe tbody tr th {\n",
       "        vertical-align: top;\n",
       "    }\n",
       "\n",
       "    .dataframe thead th {\n",
       "        text-align: right;\n",
       "    }\n",
       "</style>\n",
       "<table border=\"1\" class=\"dataframe\">\n",
       "  <thead>\n",
       "    <tr style=\"text-align: right;\">\n",
       "      <th></th>\n",
       "      <th>index</th>\n",
       "      <th>date</th>\n",
       "      <th>user_name</th>\n",
       "      <th>user_loc</th>\n",
       "      <th>message</th>\n",
       "      <th>full_name</th>\n",
       "      <th>country</th>\n",
       "      <th>country_code</th>\n",
       "      <th>geo_code</th>\n",
       "    </tr>\n",
       "  </thead>\n",
       "  <tbody>\n",
       "    <tr>\n",
       "      <th>0</th>\n",
       "      <td>0</td>\n",
       "      <td>2020-10-10 11:41:36</td>\n",
       "      <td>susanha77835097</td>\n",
       "      <td>Florida, USA</td>\n",
       "      <td>@blossomingabyss @JoeBiden He filled his pocke...</td>\n",
       "      <td>Sunny Isles Beach, FL</td>\n",
       "      <td>United States</td>\n",
       "      <td>US</td>\n",
       "      <td>[-80.125071, 25.92906]</td>\n",
       "    </tr>\n",
       "    <tr>\n",
       "      <th>1</th>\n",
       "      <td>1</td>\n",
       "      <td>2020-10-10 11:19:05</td>\n",
       "      <td>tomborelli</td>\n",
       "      <td>Greenwich, CT</td>\n",
       "      <td>Supporting @JoeBiden means packing the Supreme...</td>\n",
       "      <td>Greenwich, CT</td>\n",
       "      <td>United States</td>\n",
       "      <td>US</td>\n",
       "      <td>[-73.63941, 41.050217]</td>\n",
       "    </tr>\n",
       "    <tr>\n",
       "      <th>2</th>\n",
       "      <td>2</td>\n",
       "      <td>2020-10-10 09:39:10</td>\n",
       "      <td>John_Di_Lemme</td>\n",
       "      <td>(561) 847-3467</td>\n",
       "      <td>@ABC13News @realDonaldTrump @JoeBiden Nancy Pe...</td>\n",
       "      <td>West Palm Beach, FL</td>\n",
       "      <td>United States</td>\n",
       "      <td>US</td>\n",
       "      <td>[-80.12262, 26.721896]</td>\n",
       "    </tr>\n",
       "    <tr>\n",
       "      <th>3</th>\n",
       "      <td>3</td>\n",
       "      <td>2020-10-10 08:39:14</td>\n",
       "      <td>Parnell_100</td>\n",
       "      <td>NaN</td>\n",
       "      <td>@JoeBiden There is NO STOPPING this AMERICAN T...</td>\n",
       "      <td>Belfast, Northern Ireland</td>\n",
       "      <td>United Kingdom</td>\n",
       "      <td>GB</td>\n",
       "      <td>[-5.928413, 54.595869]</td>\n",
       "    </tr>\n",
       "    <tr>\n",
       "      <th>4</th>\n",
       "      <td>4</td>\n",
       "      <td>2020-10-10 07:18:33</td>\n",
       "      <td>sqlblues</td>\n",
       "      <td>Weston-super-Mare, England</td>\n",
       "      <td>@FenrirWolf26 @Stanhope2011VJ Britons have als...</td>\n",
       "      <td>Weston-super-Mare, England</td>\n",
       "      <td>United Kingdom</td>\n",
       "      <td>GB</td>\n",
       "      <td>[-2.94513, 51.346796]</td>\n",
       "    </tr>\n",
       "  </tbody>\n",
       "</table>\n",
       "</div>"
      ],
      "text/plain": [
       "   index                date        user_name                    user_loc  \\\n",
       "0      0 2020-10-10 11:41:36  susanha77835097                Florida, USA   \n",
       "1      1 2020-10-10 11:19:05       tomborelli               Greenwich, CT   \n",
       "2      2 2020-10-10 09:39:10    John_Di_Lemme              (561) 847-3467   \n",
       "3      3 2020-10-10 08:39:14      Parnell_100                         NaN   \n",
       "4      4 2020-10-10 07:18:33         sqlblues  Weston-super-Mare, England   \n",
       "\n",
       "                                             message  \\\n",
       "0  @blossomingabyss @JoeBiden He filled his pocke...   \n",
       "1  Supporting @JoeBiden means packing the Supreme...   \n",
       "2  @ABC13News @realDonaldTrump @JoeBiden Nancy Pe...   \n",
       "3  @JoeBiden There is NO STOPPING this AMERICAN T...   \n",
       "4  @FenrirWolf26 @Stanhope2011VJ Britons have als...   \n",
       "\n",
       "                    full_name         country country_code  \\\n",
       "0       Sunny Isles Beach, FL   United States           US   \n",
       "1               Greenwich, CT   United States           US   \n",
       "2         West Palm Beach, FL   United States           US   \n",
       "3   Belfast, Northern Ireland  United Kingdom           GB   \n",
       "4  Weston-super-Mare, England  United Kingdom           GB   \n",
       "\n",
       "                 geo_code  \n",
       "0  [-80.125071, 25.92906]  \n",
       "1  [-73.63941, 41.050217]  \n",
       "2  [-80.12262, 26.721896]  \n",
       "3  [-5.928413, 54.595869]  \n",
       "4   [-2.94513, 51.346796]  "
      ]
     },
     "execution_count": 53,
     "metadata": {},
     "output_type": "execute_result"
    }
   ],
   "source": [
    "df2['geo_code'] = df2['bbox_coords'].apply(geo_mean)\n",
    "df2.drop(['bbox_coords','place_type','followers','friends'],axis=1, inplace= True)\n",
    "df2.head()\n",
    "#Aplico la funcion a la columna, elimino columnas redundantes como el tipo de lugar desde donse tuitea, el numero de seguidores o el numero de amiwis que tienen\n",
    "#"
   ]
  },
  {
   "cell_type": "code",
   "execution_count": 54,
   "metadata": {},
   "outputs": [],
   "source": [
    "#df2.to_csv('./Outputs/datasetito.csv')\n",
    "#Esto deberia ser el paso final de este notebook"
   ]
  },
  {
   "cell_type": "code",
   "execution_count": null,
   "metadata": {},
   "outputs": [],
   "source": [
    "#test= pd.read_csv('./Outputs/datasetito.csv')"
   ]
  },
  {
   "cell_type": "code",
   "execution_count": 55,
   "metadata": {},
   "outputs": [
    {
     "data": {
      "image/png": "[encoded data removed]",
      "text/plain": [
       "<Figure size 432x288 with 1 Axes>"
      ]
     },
     "metadata": {},
     "output_type": "display_data"
    }
   ],
   "source": [
    "sns.set()# Ploteo el historigrama dividido en 24 horas para ver cuando se twittea\n",
    "sns.distplot(df2[\"date\"].dt.hour, bins=24)\n",
    "plt.title(\"Hourly Distribution of Tweets\")\n",
    "plt.show()"
   ]
  },
  {
   "cell_type": "markdown",
   "metadata": {},
   "source": [
    "#### Observamos que la distribucion de los tweets se da de 00:00 a 03:00 y de 12:00 a 17:00, las horas mas activas son los extremos de este intervalo."
   ]
  },
  {
   "cell_type": "code",
   "execution_count": null,
   "metadata": {},
   "outputs": [],
   "source": [
    "top_countries = df2[\"country\"].value_counts(sort=True).head(10)\n",
    "top_countries"
   ]
  },
  {
   "cell_type": "code",
   "execution_count": null,
   "metadata": {},
   "outputs": [],
   "source": [
    "countries = df2[df2.country!='unknown']\n",
    "\n",
    "# Select the top 10 countries\n",
    "top_countries = df2[\"country\"].value_counts(sort=True).head(10)\n",
    "\n",
    "#TOCA RETOCARLA PORQUE NO SALE CORRECTAMENTE\n",
    "plt.figure(figsize=(15,10))\n",
    "sns.barplot(x=df2.country.value_counts(),y=top_countries)\n",
    "plt.xlabel(\"Countries\")\n",
    "plt.ylabel(\"Tweet count\")\n",
    "plt.title(\"Top 10 Countries\")\n",
    "plt.xticks(rotation=90)\n",
    "plt.show()"
   ]
  },
  {
   "cell_type": "code",
   "execution_count": null,
   "metadata": {},
   "outputs": [],
   "source": [
    "df2[\"longitud\"] = df2[\"message\"].str.len()\n",
    "df2[\"palabras\"] = df2[\"message\"].str.split().str.len()\n",
    "display(df2[['longitud','palabras']])"
   ]
  },
  {
   "cell_type": "code",
   "execution_count": null,
   "metadata": {},
   "outputs": [],
   "source": [
    "import nltk\n",
    "\n",
    "\n",
    "# Import word_tokenize and stopwords from nltk\n",
    "from nltk.corpus import stopwords\n",
    "from nltk.tokenize import word_tokenize\n",
    "from nltk.stem import WordNetLemmatizer\n",
    "\n",
    "def process_tweets(tweet):\n",
    "    \n",
    "    # Remove links\n",
    "    tweet = re.sub(r\"http\\S+|www\\S+|https\\S+\", '', tweet, flags=re.MULTILINE)\n",
    "    \n",
    "    # Remove mentions and hashtag\n",
    "    tweet = re.sub(r'\\@\\w+|\\#','', tweet)\n",
    "    \n",
    "    # Tokenize the words\n",
    "    tokenized = word_tokenize(tweet)\n",
    "\n",
    "    # Remove the stop words\n",
    "    tokenized = [token for token in tokenized if token not in stopwords.words(\"english\")] \n",
    "\n",
    "    # Lemmatize the words\n",
    "    lemmatizer = WordNetLemmatizer()\n",
    "    tokenized = [lemmatizer.lemmatize(token, pos='a') for token in tokenized]\n",
    "\n",
    "    # Remove non-alphabetic characters and keep the words contains three or more letters\n",
    "    tokenized = [token for token in tokenized if token.isalpha() and len(token)>2]\n",
    "    # Fit and transform the vectorizer\n",
    "    return tokenized\n",
    "    \n",
    "# Call the function and store the result into a new column\n",
    "df2[\"refinado\"] = df2[\"message\"].apply(process_tweets)\n",
    "\n",
    "# Print the first fifteen rows of Processed\n",
    "display(df2[[\"refinado\"]].head(15))"
   ]
  },
  {
   "cell_type": "markdown",
   "metadata": {},
   "source": [
    "### Tf-idf (Term Frequency — Inverse Term Frequency)\n",
    "![alt text](https://miro.medium.com/max/505/0*oacXK7VlaV2Usteq.png)"
   ]
  },
  {
   "cell_type": "code",
   "execution_count": null,
   "metadata": {},
   "outputs": [],
   "source": [
    "tfidfstops=stopwords.words('english')\n",
    "vectorizer = TfidfVectorizer(max_features=5000, stop_words= tfidfstops)\n",
    "# Fit and transform the vectorizer\n",
    "tfidf_matrix = vectorizer.fit_transform(df2.refinado)\n",
    "# Let's see what we have\n",
    "display(tfidf_matrix)# Create a DataFrame for tf-idf vectors and display the first rows\n",
    "tfidf_df = pd.DataFrame(tfidf_matrix.toarray(), columns= vectorizer.get_feature_names())\n",
    "display(tfidf_df.head())"
   ]
  },
  {
   "cell_type": "code",
   "execution_count": null,
   "metadata": {},
   "outputs": [],
   "source": []
  }
 ],
 "metadata": {
  "kernelspec": {
   "display_name": "Python 3",
   "language": "python",
   "name": "python3"
  },
  "language_info": {
   "codemirror_mode": {
    "name": "ipython",
    "version": 3
   },
   "file_extension": ".py",
   "mimetype": "text/x-python",
   "name": "python",
   "nbconvert_exporter": "python",
   "pygments_lexer": "ipython3",
   "version": "3.8.5"
  }
 },
 "nbformat": 4,
 "nbformat_minor": 4
}
